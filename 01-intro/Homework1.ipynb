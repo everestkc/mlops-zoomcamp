{
 "cells": [
  {
   "cell_type": "code",
   "execution_count": 13,
   "id": "600a564a",
   "metadata": {},
   "outputs": [
    {
     "name": "stdout",
     "output_type": "stream",
     "text": [
      "/Users/everestkc/miniforge3/envs/py313/bin/python3.13\n"
     ]
    }
   ],
   "source": [
    "import sys\n",
    "print(sys.executable)"
   ]
  },
  {
   "cell_type": "code",
   "execution_count": 14,
   "id": "41062d8a",
   "metadata": {},
   "outputs": [],
   "source": [
    "import pandas as pd"
   ]
  },
  {
   "cell_type": "code",
   "execution_count": 15,
   "id": "c984c564",
   "metadata": {},
   "outputs": [],
   "source": [
    "import pickle"
   ]
  },
  {
   "cell_type": "code",
   "execution_count": 16,
   "id": "4add538c",
   "metadata": {},
   "outputs": [],
   "source": [
    "import seaborn as sns\n",
    "import matplotlib.pyplot as plt"
   ]
  },
  {
   "cell_type": "code",
   "execution_count": 18,
   "id": "8b135c2b",
   "metadata": {},
   "outputs": [],
   "source": [
    "from sklearn.feature_extraction import DictVectorizer\n",
    "from sklearn.linear_model import LinearRegression\n",
    "from sklearn.linear_model import Lasso\n",
    "from sklearn.linear_model import Ridge\n",
    "\n",
    "from sklearn.metrics import root_mean_squared_error"
   ]
  },
  {
   "cell_type": "code",
   "execution_count": 45,
   "id": "8e013caf",
   "metadata": {},
   "outputs": [
    {
     "name": "stdout",
     "output_type": "stream",
     "text": [
      "No. of columns = 19\n"
     ]
    }
   ],
   "source": [
    "df = pd.read_parquet('https://d37ci6vzurychx.cloudfront.net/trip-data/yellow_tripdata_2023-01.parquet')\n",
    "print(\"No. of columns =\",len(df.columns))"
   ]
  },
  {
   "cell_type": "code",
   "execution_count": 46,
   "id": "12968cc9",
   "metadata": {},
   "outputs": [
    {
     "name": "stdout",
     "output_type": "stream",
     "text": [
      "Standard Deviation of duration = 42.59435124195458\n"
     ]
    }
   ],
   "source": [
    "df['duration'] = df.tpep_dropoff_datetime - df.tpep_pickup_datetime\n",
    "df.duration = df.duration.apply(lambda td: td.total_seconds() / 60)\n",
    "print(\"Standard Deviation of duration =\",df.duration.std())"
   ]
  },
  {
   "cell_type": "code",
   "execution_count": 47,
   "id": "7d6ec078",
   "metadata": {},
   "outputs": [
    {
     "name": "stdout",
     "output_type": "stream",
     "text": [
      "Fraction = 98.1220282212598\n"
     ]
    }
   ],
   "source": [
    "length_before_dropping = len(df)\n",
    "df = df[(df.duration >= 1) & (df.duration <= 60)]\n",
    "length_after_dropping = len(df)\n",
    "print(\"Fraction =\",(length_after_dropping/length_before_dropping)*100 )\n",
    "\n",
    "\n",
    "categorical = ['PULocationID', 'DOLocationID']\n",
    "\n",
    "df[categorical] = df[categorical].astype(str)"
   ]
  },
  {
   "cell_type": "code",
   "execution_count": 44,
   "id": "116ff0cc",
   "metadata": {},
   "outputs": [
    {
     "name": "stdout",
     "output_type": "stream",
     "text": [
      "Feature matrix shape: <Compressed Sparse Row sparse matrix of dtype 'float64'\n",
      "\twith 6018346 stored elements and shape (3009173, 515)>\n",
      "  Coords\tValues\n",
      "  (0, 43)\t1.0\n",
      "  (0, 325)\t1.0\n",
      "  (1, 148)\t1.0\n",
      "  (1, 456)\t1.0\n",
      "  (2, 149)\t1.0\n",
      "  (2, 461)\t1.0\n",
      "  (3, 227)\t1.0\n",
      "  (3, 299)\t1.0\n",
      "  (4, 237)\t1.0\n",
      "  (4, 266)\t1.0\n",
      "  (5, 38)\t1.0\n",
      "  (5, 325)\t1.0\n",
      "  (6, 45)\t1.0\n",
      "  (6, 409)\t1.0\n",
      "  (7, 108)\t1.0\n",
      "  (7, 304)\t1.0\n",
      "  (8, 147)\t1.0\n",
      "  (8, 328)\t1.0\n",
      "  (9, 6)\t1.0\n",
      "  (9, 303)\t1.0\n",
      "  (10, 225)\t1.0\n",
      "  (10, 404)\t1.0\n",
      "  (11, 178)\t1.0\n",
      "  (11, 494)\t1.0\n",
      "  (12, 45)\t1.0\n",
      "  :\t:\n",
      "  (3009160, 328)\t1.0\n",
      "  (3009161, 155)\t1.0\n",
      "  (3009161, 494)\t1.0\n",
      "  (3009162, 203)\t1.0\n",
      "  (3009162, 306)\t1.0\n",
      "  (3009163, 50)\t1.0\n",
      "  (3009163, 325)\t1.0\n",
      "  (3009164, 242)\t1.0\n",
      "  (3009164, 401)\t1.0\n",
      "  (3009165, 54)\t1.0\n",
      "  (3009165, 326)\t1.0\n",
      "  (3009166, 64)\t1.0\n",
      "  (3009166, 482)\t1.0\n",
      "  (3009167, 46)\t1.0\n",
      "  (3009167, 401)\t1.0\n",
      "  (3009168, 203)\t1.0\n",
      "  (3009168, 266)\t1.0\n",
      "  (3009169, 233)\t1.0\n",
      "  (3009169, 271)\t1.0\n",
      "  (3009170, 150)\t1.0\n",
      "  (3009170, 273)\t1.0\n",
      "  (3009171, 237)\t1.0\n",
      "  (3009171, 400)\t1.0\n",
      "  (3009172, 45)\t1.0\n",
      "  (3009172, 435)\t1.0\n"
     ]
    },
    {
     "data": {
      "text/plain": [
       "7.649262960840922"
      ]
     },
     "execution_count": 44,
     "metadata": {},
     "output_type": "execute_result"
    }
   ],
   "source": [
    "train_dicts = df[categorical].to_dict(orient='records')\n",
    "\n",
    "dv = DictVectorizer()\n",
    "X_train = dv.fit_transform(train_dicts)\n",
    "\n",
    "print(f\"Feature matrix shape: {X_train}\")\n",
    "\n",
    "target = 'duration'\n",
    "y_train = df[target].values\n",
    "\n",
    "lr = LinearRegression()\n",
    "lr.fit(X_train, y_train)\n",
    "\n",
    "y_pred = lr.predict(X_train)\n",
    "\n",
    "root_mean_squared_error(y_train, y_pred)"
   ]
  },
  {
   "cell_type": "code",
   "execution_count": 50,
   "id": "f9e6479e",
   "metadata": {},
   "outputs": [],
   "source": [
    "def read_dataframe(filename):\n",
    "    if filename.endswith('.csv'):\n",
    "        df = pd.read_csv(filename)\n",
    "\n",
    "        df.tpep_dropoff_datetime = pd.to_datetime(df.tpep_dropoff_datetime)\n",
    "        df.tpep_pickup_datetime = pd.to_datetime(df.tpep_pickup_datetime)\n",
    "    elif filename.endswith('.parquet'):\n",
    "        df = pd.read_parquet(filename)\n",
    "\n",
    "    df['duration'] = df.tpep_dropoff_datetime - df.tpep_pickup_datetime\n",
    "    df.duration = df.duration.apply(lambda td: td.total_seconds() / 60)\n",
    "\n",
    "    df = df[(df.duration >= 1) & (df.duration <= 60)]\n",
    "\n",
    "    categorical = ['PULocationID', 'DOLocationID']\n",
    "    df[categorical] = df[categorical].astype(str)\n",
    "    \n",
    "    return df"
   ]
  },
  {
   "cell_type": "code",
   "execution_count": 51,
   "id": "8029eba0",
   "metadata": {},
   "outputs": [],
   "source": [
    "# df_train = read_dataframe('./data/green_tripdata_2021-01.parquet')\n",
    "df_val = read_dataframe('https://d37ci6vzurychx.cloudfront.net/trip-data/yellow_tripdata_2023-02.parquet')"
   ]
  },
  {
   "cell_type": "code",
   "execution_count": null,
   "id": "f6f2f0eb",
   "metadata": {},
   "outputs": [],
   "source": [
    "len(df_train), len(df_val)"
   ]
  },
  {
   "cell_type": "code",
   "execution_count": null,
   "id": "951d51ef",
   "metadata": {},
   "outputs": [],
   "source": [
    "# df_train['PU_DO'] = df_train['PULocationID'] + '_' + df_train['DOLocationID']\n",
    "# df_val['PU_DO'] = df_val['PULocationID'] + '_' + df_val['DOLocationID']\n",
    "val_dicts = df_val[categorical].to_dict(orient='records')"
   ]
  },
  {
   "cell_type": "code",
   "execution_count": 53,
   "id": "c5cbfc25",
   "metadata": {},
   "outputs": [],
   "source": [
    "# categorical = ['PULocationID', 'DOLocationID']\n",
    "\n",
    "# dv = DictVectorizer()\n",
    "\n",
    "train_dicts = df[categorical].to_dict(orient='records')\n",
    "X_train = dv.fit_transform(train_dicts)\n",
    "\n",
    "val_dicts = df_val[categorical].to_dict(orient='records')\n",
    "X_val = dv.transform(val_dicts)"
   ]
  },
  {
   "cell_type": "code",
   "execution_count": 55,
   "id": "1e9fb68b",
   "metadata": {},
   "outputs": [],
   "source": [
    "target = 'duration'\n",
    "y_train = df[target].values\n",
    "y_val = df_val[target].values"
   ]
  },
  {
   "cell_type": "code",
   "execution_count": 56,
   "id": "429e2394",
   "metadata": {},
   "outputs": [
    {
     "data": {
      "text/plain": [
       "7.811797467593667"
      ]
     },
     "execution_count": 56,
     "metadata": {},
     "output_type": "execute_result"
    }
   ],
   "source": [
    "lr = LinearRegression()\n",
    "lr.fit(X_train, y_train)\n",
    "\n",
    "y_pred = lr.predict(X_val)\n",
    "\n",
    "root_mean_squared_error(y_val, y_pred)"
   ]
  }
 ],
 "metadata": {
  "kernelspec": {
   "display_name": "condapy313",
   "language": "python",
   "name": "condapy313"
  },
  "language_info": {
   "codemirror_mode": {
    "name": "ipython",
    "version": 3
   },
   "file_extension": ".py",
   "mimetype": "text/x-python",
   "name": "python",
   "nbconvert_exporter": "python",
   "pygments_lexer": "ipython3",
   "version": "3.13.3"
  }
 },
 "nbformat": 4,
 "nbformat_minor": 5
}
